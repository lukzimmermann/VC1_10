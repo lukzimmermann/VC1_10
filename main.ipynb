{
 "cells": [
  {
   "cell_type": "code",
   "execution_count": null,
   "metadata": {},
   "outputs": [],
   "source": []
  },
  {
   "cell_type": "markdown",
   "metadata": {},
   "source": [
    "![](Screenshot_teachablemachine.png)"
   ]
  },
  {
   "cell_type": "code",
   "execution_count": 45,
   "metadata": {},
   "outputs": [],
   "source": [
    "from PIL import Image, ImageOps\n",
    "import numpy as np\n",
    "from tensorflow.keras.models import load_model\n",
    "import os\n",
    "import matplotlib.pyplot as plt"
   ]
  },
  {
   "cell_type": "code",
   "execution_count": 46,
   "metadata": {},
   "outputs": [],
   "source": [
    "def image_to_array(image_path):\n",
    "    data = np.ndarray(shape=(1, 224, 224, 3), dtype=np.float32)\n",
    "\n",
    "    image = Image.open(image_path).convert(\"RGB\")\n",
    "    image = ImageOps.fit(image, (224, 224), Image.LANCZOS)\n",
    "\n",
    "    image_array = np.asarray(image)\n",
    "\n",
    "    # Normalize the image\n",
    "    normalized_image_array = (image_array.astype(np.float32) / 127.5) - 1\n",
    "\n",
    "    data[0] = normalized_image_array\n",
    "\n",
    "    return data"
   ]
  },
  {
   "cell_type": "code",
   "execution_count": 47,
   "metadata": {},
   "outputs": [],
   "source": [
    "def get_prediction(C):\n",
    "    prediction = model.predict(image_to_array('./test/hot_dog/133012.jpg'))\n",
    "    index = np.argmax(prediction)\n",
    "    class_name = class_names[index]\n",
    "    confidence_score = prediction[0][index]\n",
    "\n",
    "    return [class_name, confidence_score]"
   ]
  },
  {
   "cell_type": "code",
   "execution_count": 50,
   "metadata": {},
   "outputs": [
    {
     "ename": "FileNotFoundError",
     "evalue": "[Errno 2] No such file or directory: './test/hot_dog'",
     "output_type": "error",
     "traceback": [
      "\u001b[0;31m---------------------------------------------------------------------------\u001b[0m",
      "\u001b[0;31mFileNotFoundError\u001b[0m                         Traceback (most recent call last)",
      "\u001b[1;32m/home/lukas/Documents/LocalProjects/VC1_10/main.ipynb Cell 6\u001b[0m line \u001b[0;36m6\n\u001b[1;32m      <a href='vscode-notebook-cell:/home/lukas/Documents/LocalProjects/VC1_10/main.ipynb#W0sZmlsZQ%3D%3D?line=2'>3</a>\u001b[0m fn \u001b[39m=\u001b[39m \u001b[39m0\u001b[39m\n\u001b[1;32m      <a href='vscode-notebook-cell:/home/lukas/Documents/LocalProjects/VC1_10/main.ipynb#W0sZmlsZQ%3D%3D?line=3'>4</a>\u001b[0m tn \u001b[39m=\u001b[39m \u001b[39m0\u001b[39m\n\u001b[0;32m----> <a href='vscode-notebook-cell:/home/lukas/Documents/LocalProjects/VC1_10/main.ipynb#W0sZmlsZQ%3D%3D?line=5'>6</a>\u001b[0m hot_dog_test_files \u001b[39m=\u001b[39m os\u001b[39m.\u001b[39;49mlistdir(\u001b[39m'\u001b[39;49m\u001b[39m./test/hot_dog\u001b[39;49m\u001b[39m'\u001b[39;49m)\n\u001b[1;32m      <a href='vscode-notebook-cell:/home/lukas/Documents/LocalProjects/VC1_10/main.ipynb#W0sZmlsZQ%3D%3D?line=6'>7</a>\u001b[0m \u001b[39mfor\u001b[39;00m hot_dog_test_file \u001b[39min\u001b[39;00m hot_dog_test_files:\n\u001b[1;32m      <a href='vscode-notebook-cell:/home/lukas/Documents/LocalProjects/VC1_10/main.ipynb#W0sZmlsZQ%3D%3D?line=7'>8</a>\u001b[0m     prediction \u001b[39m=\u001b[39m get_prediction(hot_dog_test_file)\n",
      "\u001b[0;31mFileNotFoundError\u001b[0m: [Errno 2] No such file or directory: './test/hot_dog'"
     ]
    }
   ],
   "source": [
    "tp = 0\n",
    "fp = 0\n",
    "fn = 0\n",
    "tn = 0\n",
    "\n",
    "hot_dog_test_files = os.listdir('./test/hot_dog/')\n",
    "for hot_dog_test_file in hot_dog_test_files:\n",
    "    prediction = get_prediction(hot_dog_test_file)\n",
    "    \n",
    "    if prediction[0][2:] == 'Hotdog':\n",
    "        tp+=1\n",
    "    else:\n",
    "        fn+=1\n",
    "\n",
    "\n",
    "hot_dog_test_files = os.listdir('./test/not_hot_dog/')\n",
    "for hot_dog_test_file in hot_dog_test_files:\n",
    "    prediction = get_prediction(hot_dog_test_file)\n",
    "    \n",
    "    if prediction[0][2:] == 'NotHotdog':\n",
    "        tn+=1\n",
    "    else:\n",
    "        fp+=1"
   ]
  },
  {
   "cell_type": "code",
   "execution_count": null,
   "metadata": {},
   "outputs": [
    {
     "data": {
      "image/png": "[encoded data removed]",
      "text/plain": [
       "<Figure size 640x480 with 1 Axes>"
      ]
     },
     "metadata": {},
     "output_type": "display_data"
    }
   ],
   "source": [
    "import matplotlib.pyplot as plt\n",
    "\n",
    "confusion_matrix = np.array([[fp, tp], [tn, fn]])\n",
    "\n",
    "plt.imshow(confusion_matrix, interpolation='nearest', cmap=plt.cm.Blues)\n",
    "plt.title('Confusion Matrix')\n",
    "\n",
    "classes = np.unique(['HotDog', 'NotHotdog'])\n",
    "tick_marks = np.arange(len(classes))\n",
    "plt.xticks(tick_marks, classes)\n",
    "plt.yticks(tick_marks, classes)\n",
    "\n",
    "plt.xlabel('Predicted')\n",
    "plt.ylabel('True')\n",
    "\n",
    "# Add text annotations\n",
    "for i in range(len(classes)):\n",
    "    for j in range(len(classes)):\n",
    "        plt.text(j, i, str(confusion_matrix[i, j]), horizontalalignment='center', verticalalignment='center')\n",
    "\n",
    "plt.show()\n"
   ]
  }
 ],
 "metadata": {
  "kernelspec": {
   "display_name": "Python 3",
   "language": "python",
   "name": "python3"
  },
  "language_info": {
   "codemirror_mode": {
    "name": "ipython",
    "version": 3
   },
   "file_extension": ".py",
   "mimetype": "text/x-python",
   "name": "python",
   "nbconvert_exporter": "python",
   "pygments_lexer": "ipython3",
   "version": "3.10.12"
  }
 },
 "nbformat": 4,
 "nbformat_minor": 2
}
